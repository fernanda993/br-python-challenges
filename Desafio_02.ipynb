{
  "nbformat": 4,
  "nbformat_minor": 0,
  "metadata": {
    "anaconda-cloud": {},
    "kernelspec": {
      "display_name": "Python 3",
      "language": "python",
      "name": "python3"
    },
    "language_info": {
      "codemirror_mode": {
        "name": "ipython",
        "version": 3
      },
      "file_extension": ".py",
      "mimetype": "text/x-python",
      "name": "python",
      "nbconvert_exporter": "python",
      "pygments_lexer": "ipython3",
      "version": "3.6.5"
    },
    "colab": {
      "name": "Desafio 2.ipynb",
      "provenance": [],
      "include_colab_link": true
    }
  },
  "cells": [
    {
      "cell_type": "markdown",
      "metadata": {
        "id": "view-in-github",
        "colab_type": "text"
      },
      "source": [
        "<a href=\"https://colab.research.google.com/github/fernanda993/br-python-challenges/blob/master/Desafio_02.ipynb\" target=\"_parent\"><img src=\"https://colab.research.google.com/assets/colab-badge.svg\" alt=\"Open In Colab\"/></a>"
      ]
    },
    {
      "cell_type": "markdown",
      "metadata": {
        "id": "q1NCks7Af6JN",
        "colab_type": "text"
      },
      "source": [
        "### Desafio 2\n",
        "\n",
        "Escreva uma função que recebe um número inteiro de horas e a converte em segundos.\n",
        "\n",
        "Exemplo:\n",
        "\n",
        "convert(5) ➞ 18000\n",
        "\n",
        "convert(3) ➞ 10800\n",
        "\n",
        "convert(2) ➞ 7200"
      ]
    },
    {
      "cell_type": "code",
      "metadata": {
        "id": "sSm6F7sff6JO",
        "colab_type": "code",
        "colab": {
          "base_uri": "https://localhost:8080/",
          "height": 235
        },
        "outputId": "225e2d17-3df5-4ea0-b2dd-348a9ef34943"
      },
      "source": [
        "def convert_to_sec(number):\n",
        "    pass # Seu código\n",
        "\n",
        "\n",
        "\n",
        "contador = 0\n",
        "while (contador < 4):\n",
        "      print('Informe a hora ')\n",
        "      h1 = int(input('>> '))\n",
        "      seconds = h1 * 3600\n",
        "      print(seconds)\n",
        "      contador   = contador + 1\n",
        "\n",
        "print()"
      ],
      "execution_count": 29,
      "outputs": [
        {
          "output_type": "stream",
          "text": [
            "Informe a hora \n",
            ">> 5\n",
            "18000\n",
            "Informe a hora \n",
            ">> 3\n",
            "10800\n",
            "Informe a hora \n",
            ">> 2\n",
            "7200\n",
            "Informe a hora \n",
            ">> 1\n",
            "3600\n",
            "\n"
          ],
          "name": "stdout"
        }
      ]
    }
  ]
}