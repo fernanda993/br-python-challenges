{
  "nbformat": 4,
  "nbformat_minor": 0,
  "metadata": {
    "anaconda-cloud": {},
    "kernelspec": {
      "display_name": "Python 3",
      "language": "python",
      "name": "python3"
    },
    "language_info": {
      "codemirror_mode": {
        "name": "ipython",
        "version": 3
      },
      "file_extension": ".py",
      "mimetype": "text/x-python",
      "name": "python",
      "nbconvert_exporter": "python",
      "pygments_lexer": "ipython3",
      "version": "3.6.5"
    },
    "colab": {
      "name": "Desafio 3.ipynb",
      "provenance": [],
      "include_colab_link": true
    }
  },
  "cells": [
    {
      "cell_type": "markdown",
      "metadata": {
        "id": "view-in-github",
        "colab_type": "text"
      },
      "source": [
        "<a href=\"https://colab.research.google.com/github/fernanda993/br-python-challenges/blob/Resolicao_desafio1/Desafio_03.ipynb\" target=\"_parent\"><img src=\"https://colab.research.google.com/assets/colab-badge.svg\" alt=\"Open In Colab\"/></a>"
      ]
    },
    {
      "cell_type": "markdown",
      "metadata": {
        "id": "9apVxxygf6JR",
        "colab_type": "text"
      },
      "source": [
        "### Desafio 3\n",
        "\n",
        "Escreva uma função que receba uma lista e retorne uma nova lista ordenada e sem valores duplicados.\n"
      ]
    },
    {
      "cell_type": "code",
      "metadata": {
        "id": "ndTkQEUBf6JS",
        "colab_type": "code",
        "colab": {}
      },
      "source": [
        "lista = [1,2,3,4,3,30,3,4,5,6,9,3,2,1,2,4,5,15,6,6,3,13,4,45,5]\n",
        "\n",
        "# Seu código"
      ],
      "execution_count": 6,
      "outputs": []
    },
    {
      "cell_type": "code",
      "metadata": {
        "id": "vhoBFHDnkyjz",
        "colab_type": "code",
        "colab": {
          "base_uri": "https://localhost:8080/",
          "height": 34
        },
        "outputId": "3faa12ad-ca5e-4090-e722-921283a8fc9c"
      },
      "source": [
        "def remove_repetidos(lista):\n",
        "    l = []\n",
        "    for i in lista:\n",
        "        if i not in l:\n",
        "            l.append(i)\n",
        "    l.sort()\n",
        "    return l\n",
        "lista = remove_repetidos(lista)\n",
        "print (lista)\n",
        "\n"
      ],
      "execution_count": 17,
      "outputs": [
        {
          "output_type": "stream",
          "text": [
            "[1, 2, 3, 4, 5, 6, 9, 13, 15, 30, 45]\n"
          ],
          "name": "stdout"
        }
      ]
    }
  ]
}